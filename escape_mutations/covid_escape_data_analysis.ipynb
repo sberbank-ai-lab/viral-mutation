{
  "nbformat": 4,
  "nbformat_minor": 0,
  "metadata": {
    "colab": {
      "name": "covid_escape_data_analysis.ipynb",
      "provenance": [],
      "toc_visible": true
    },
    "kernelspec": {
      "name": "python3",
      "display_name": "Python 3.7.5 64-bit",
      "metadata": {
        "interpreter": {
          "hash": "bc39a3b1e8761861ef1d3de10cfa50ed857ad7e667ebcf646fad08a8819ab6ed"
        }
      }
    }
  },
  "cells": [
    {
      "cell_type": "markdown",
      "metadata": {
        "id": "kMentdro2jRA"
      },
      "source": [
        "# Covid Escape Data Analysis"
      ]
    },
    {
      "cell_type": "markdown",
      "metadata": {
        "id": "jjaWsalGGP1y"
      },
      "source": [
        "## Imports"
      ]
    },
    {
      "cell_type": "code",
      "metadata": {
        "id": "0PUSMohBGKxV"
      },
      "source": [
        "import pandas as pd\n",
        "import plotly.express as px"
      ],
      "execution_count": null,
      "outputs": []
    },
    {
      "cell_type": "markdown",
      "metadata": {
        "id": "s85uzXVR_QFF"
      },
      "source": [
        "## Reading data"
      ]
    },
    {
      "source": [
        "files = [\n",
        "  'data/AZ_cocktail_raw_data.txt',\n",
        "  'data/Ellebedy_invivo_raw_data.txt',\n",
        "  'data/MAP_paper_antibodies_raw_data.txt',\n",
        "  'data/REGN_and_LY-CoV016_raw_data.txt',\n",
        "  'data/human_sera_raw_data.txt',\n",
        "]\n",
        "\n",
        "dfs = dict()\n",
        "for filepath in files:\n",
        "  dfs[filepath] = pd.read_csv(filepath)"
      ],
      "cell_type": "code",
      "metadata": {
        "id": "rACywviB357u"
      },
      "execution_count": null,
      "outputs": []
    },
    {
      "cell_type": "markdown",
      "metadata": {
        "id": "Uib87c4R_GnQ"
      },
      "source": [
        "## Stats by file"
      ]
    },
    {
      "cell_type": "markdown",
      "metadata": {
        "id": "EYG3-0vZGyfo"
      },
      "source": [
        "`mut_escape` value stats:"
      ]
    },
    {
      "cell_type": "code",
      "metadata": {
        "colab": {
          "base_uri": "https://localhost:8080/"
        },
        "id": "Jh0cZV5t4CuE",
        "outputId": "97a4816a-1d8d-4320-b963-7ec7b2922814"
      },
      "source": [
        "for df_name, df in dfs.items():\n",
        "  print(df_name + '\\n')\n",
        "  print(df['mut_escape'].describe())\n",
        "  print('\\n')"
      ],
      "execution_count": null,
      "outputs": []
    },
    {
      "cell_type": "markdown",
      "metadata": {
        "id": "LIUjZoj0G3r_"
      },
      "source": [
        "and corresponding histograms:"
      ]
    },
    {
      "cell_type": "code",
      "metadata": {
        "colab": {
          "base_uri": "https://localhost:8080/",
          "height": 1000
        },
        "id": "kE2-9x7t72i4",
        "outputId": "abbf7101-7b3d-498e-83fd-c52cde636eaa"
      },
      "source": [
        "for df in dfs.values():\n",
        "  fig = px.histogram(df, x=\"mut_escape\", nbins=100)\n",
        "  fig.show()"
      ],
      "execution_count": null,
      "outputs": []
    },
    {
      "cell_type": "markdown",
      "metadata": {
        "id": "f0aQsWxi_4zU"
      },
      "source": [
        "## Stats by condition"
      ]
    },
    {
      "cell_type": "markdown",
      "metadata": {
        "id": "KYgW2yXzFp7c"
      },
      "source": [
        "Obtaining a list of conditions:"
      ]
    },
    {
      "cell_type": "code",
      "metadata": {
        "colab": {
          "base_uri": "https://localhost:8080/"
        },
        "id": "FAdNpBICAAJh",
        "outputId": "cc31fc5d-546e-45ab-ca41-e5eb1703ccc0"
      },
      "source": [
        "conditions = []\n",
        "for df in dfs.values():\n",
        "  conditions.extend(df.condition.unique())\n",
        "\n",
        "conditions = list(set(conditions))\n",
        "conditions = sorted(conditions)\n",
        "\n",
        "print('Conditions:\\n\\t{}'.format('\\n\\t'.join(conditions)))\n",
        "print()\n",
        "print('Number of conditions: {}'.format(len(conditions)))"
      ],
      "execution_count": null,
      "outputs": []
    },
    {
      "cell_type": "markdown",
      "metadata": {
        "id": "HZ8TVDBOFvxr"
      },
      "source": [
        "Splitting all the data by the condition type:"
      ]
    },
    {
      "cell_type": "code",
      "metadata": {
        "id": "HyI8zV1bAWt0"
      },
      "source": [
        "df_by_condition = dict()\n",
        "\n",
        "for condition in conditions:\n",
        "  current_df = pd.DataFrame()\n",
        "  \n",
        "  for df in dfs.values():\n",
        "    current_df = current_df.append(df[df['condition'] == condition], ignore_index=True)\n",
        "  \n",
        "  df_by_condition[condition] = current_df"
      ],
      "execution_count": null,
      "outputs": []
    },
    {
      "cell_type": "markdown",
      "metadata": {
        "id": "RyzIIVBcF9w_"
      },
      "source": [
        "Plot histogram of `mut_escape` for each condition type:"
      ]
    },
    {
      "cell_type": "code",
      "metadata": {
        "colab": {
          "base_uri": "https://localhost:8080/",
          "height": 1000
        },
        "id": "EIsh7TYKEZoG",
        "outputId": "94442afe-c91e-45c2-89d5-2ea05f84f859"
      },
      "source": [
        "for condition, df in df_by_condition.items():\n",
        "  fig = px.histogram(df, x=\"mut_escape\", nbins=100, title=condition)\n",
        "  fig.show()"
      ],
      "execution_count": null,
      "outputs": []
    }
  ]
}